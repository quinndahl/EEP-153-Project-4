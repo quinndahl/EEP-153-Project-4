{
 "cells": [
  {
   "cell_type": "code",
   "execution_count": null,
   "id": "407e8145",
   "metadata": {},
   "outputs": [],
   "source": [
    "!pip install CFEDemands\n",
    "!pip install ConsumerDemands\n",
    "!pip install oauth2client\n",
    "!pip install eep153_tools\n",
    "!pip install dvc\n",
    "!pip install gnupg"
   ]
  },
  {
   "cell_type": "code",
   "execution_count": null,
   "id": "1ac8a9bb",
   "metadata": {},
   "outputs": [],
   "source": [
    "InputFiles = {'Expenditures':('1-rP6IC2wm91nH94xApeLCXS7dslqlsTns9si57Hs1c0','Expenditures'),\n",
    "              'malawi_consumption':('1c2rXKtnVawQ802xAh4qm5HDK9MiFTFlGZJjcgTooRVo','malawi_consumption'),\n",
    "              'HH Characteristics':('1-rP6IC2wm91nH94xApeLCXS7dslqlsTns9si57Hs1c0','HH Characteristics'),\n",
    "              'FCT':('1Uy4h4cB3_O6Ls3Pvk920ScTA1jaKdVb4TAkZ51n-8DA','05 NV_sum_57 (per 100g EP)')}"
   ]
  },
  {
   "cell_type": "code",
   "execution_count": null,
   "id": "4275abe1",
   "metadata": {},
   "outputs": [],
   "source": [
    "from eep153_tools.sheets import read_sheets\n",
    "import numpy as np\n",
    "import pandas as pd\n",
    "\n",
    "def get_clean_sheet(key,sheet=None):\n",
    "\n",
    "    dfs = read_sheets(key)\n",
    "\n",
    "    if sheet is not None:\n",
    "        df = dfs[sheet]\n",
    "    else:\n",
    "        df = dfs.values()[0]\n",
    "        \n",
    "    df.columns = [c.strip() for c in df.columns.tolist()]\n",
    "\n",
    "    df = df.loc[:,~df.columns.duplicated(keep='first')]   \n",
    "\n",
    "    df = df.drop([col for col in df.columns if col.startswith('Unnamed')], axis=1)\n",
    "\n",
    "    df = df.loc[~df.index.duplicated(), :]\n",
    "\n",
    "    return df"
   ]
  },
  {
   "cell_type": "code",
   "execution_count": null,
   "id": "6453dbc9",
   "metadata": {},
   "outputs": [],
   "source": [
    "x = get_clean_sheet(InputFiles['Expenditures'][0],\n",
    "                    sheet=InputFiles['Expenditures'][1])\n",
    "\n",
    "if 'm' not in x.columns:\n",
    "    x['m'] = 1\n",
    "\n",
    "x = x.set_index(['j','t','m'])\n",
    "x.columns.name = 'i'\n",
    "\n",
    "x = x.apply(lambda x: pd.to_numeric(x,errors='coerce'))\n",
    "x = x.replace(0,np.nan)\n",
    "\n",
    "x"
   ]
  },
  {
   "cell_type": "code",
   "execution_count": null,
   "id": "7f4a7885",
   "metadata": {},
   "outputs": [],
   "source": [
    "# Get HH characteristics...\n",
    "z = get_clean_sheet(InputFiles['HH Characteristics'][0],\n",
    "                    sheet=InputFiles['HH Characteristics'][1])\n",
    "\n",
    "if 'm' not in z.columns:\n",
    "    z['m'] = 1\n",
    "\n",
    "z = z.set_index(['j','t','m'])\n",
    "z.columns.name = 'k'\n",
    "\n",
    "z = z.apply(lambda x: pd.to_numeric(x,errors='coerce'))\n",
    "\n",
    "z"
   ]
  },
  {
   "cell_type": "code",
   "execution_count": null,
   "id": "4f000917",
   "metadata": {},
   "outputs": [],
   "source": [
    "q = get_clean_sheet(InputFiles['malawi_consumption'][0],\n",
    "                    sheet=InputFiles['malawi_consumption'][1])\n",
    "\n",
    "if 'm' not in q.columns:\n",
    "    q['m'] = 1\n",
    "\n",
    "q = q.set_index(['j','t','m','u'])\n",
    "q.columns.name = 'i'\n",
    "\n",
    "q = q.apply(lambda x: pd.to_numeric(x,errors='coerce'))\n",
    "q = q.replace(0,np.nan)\n",
    "\n",
    "q"
   ]
  },
  {
   "cell_type": "code",
   "execution_count": null,
   "id": "515c5f22",
   "metadata": {},
   "outputs": [],
   "source": [
    "import sys\n",
    "import cfe\n",
    "\n",
    "y = np.log(x)\n",
    "y\n",
    "result = cfe.Result(y=y,z=z)"
   ]
  },
  {
   "cell_type": "code",
   "execution_count": null,
   "id": "f1edacab",
   "metadata": {},
   "outputs": [],
   "source": [
    "result.get_reduced_form()"
   ]
  },
  {
   "cell_type": "code",
   "execution_count": null,
   "id": "3fcf1496",
   "metadata": {},
   "outputs": [],
   "source": [
    "result.delta.to_dataframe().unstack('k')"
   ]
  },
  {
   "cell_type": "code",
   "execution_count": null,
   "id": "9cddd785",
   "metadata": {},
   "outputs": [],
   "source": [
    "result.a.to_dataframe().unstack('i')"
   ]
  },
  {
   "cell_type": "code",
   "execution_count": null,
   "id": "70c50df1",
   "metadata": {},
   "outputs": [],
   "source": [
    "result.get_beta(as_df=True)"
   ]
  },
  {
   "cell_type": "code",
   "execution_count": null,
   "id": "8ebd6753",
   "metadata": {},
   "outputs": [],
   "source": [
    "result.get_alpha(as_df = True)"
   ]
  },
  {
   "cell_type": "code",
   "execution_count": null,
   "id": "e377f603",
   "metadata": {},
   "outputs": [],
   "source": [
    "%matplotlib inline\n",
    "import matplotlib.pyplot as plt\n",
    "import matplotlib.cm as cm\n",
    "\n",
    "xbar = np.exp(result.y).sum(['m','i']).to_dataframe('xbar').replace(0,np.nan).squeeze()\n",
    "xhat = result.get_predicted_expenditures().sum(['m','i']).to_dataframe('xhat').replace(0,np.nan).squeeze()\n",
    "\n",
    "# Make dataframe of actual & predicted\n",
    "df = pd.DataFrame({'Actual':np.log(xbar),'Predicted':np.log(xhat)})\n",
    "\n",
    "df.plot.scatter(x='Predicted',y='Actual')\n",
    "\n",
    "# Add 45 degree line\n",
    "v = plt.axis()\n",
    "vmin = np.max([v[0],v[2]])\n",
    "vmax = np.max([v[1],v[3]])\n",
    "plt.plot([vmin,vmax],[vmin,vmax])"
   ]
  },
  {
   "cell_type": "code",
   "execution_count": null,
   "id": "8662058c",
   "metadata": {},
   "outputs": [],
   "source": [
    "result.to_dataset('malawi.ds')"
   ]
  }
 ],
 "metadata": {
  "kernelspec": {
   "display_name": "Python 3 (ipykernel)",
   "language": "python",
   "name": "python3"
  },
  "language_info": {
   "codemirror_mode": {
    "name": "ipython",
    "version": 3
   },
   "file_extension": ".py",
   "mimetype": "text/x-python",
   "name": "python",
   "nbconvert_exporter": "python",
   "pygments_lexer": "ipython3",
   "version": "3.9.12"
  }
 },
 "nbformat": 4,
 "nbformat_minor": 5
}
